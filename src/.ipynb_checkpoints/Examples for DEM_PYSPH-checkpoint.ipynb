{
 "cells": [
  {
   "cell_type": "code",
   "execution_count": 8,
   "metadata": {
    "collapsed": true
   },
   "outputs": [],
   "source": [
    "from pysph.base.utils import get_particle_array\n",
    "import numpy as np\n",
    "\n",
    "def get_particle_array_dem(constants=None, **props):\n",
    "    \"\"\"Return a particle array for the DEM formulation.\n",
    "\n",
    "    These are the additional properties to get_particle_array\n",
    "\n",
    "        ['x0 ', 'y0', 'z0', 'u0', 'v0', 'w0', 'fx', 'fy', 'fz', 'R']\n",
    "\n",
    "    Parameters\n",
    "    ----------\n",
    "    constants : dict\n",
    "        Dictionary of constants\n",
    "\n",
    "    Other Parameters\n",
    "    ----------------\n",
    "    props : dict\n",
    "        Additional keywords passed are set as the property arrays.\n",
    "\n",
    "    See Also\n",
    "    --------\n",
    "    get_particle_array\n",
    "\n",
    "    \"\"\"\n",
    "\n",
    "    dem_props = ['x0 ', 'y0', 'z0', 'u0', 'v0', 'w0', 'fx', 'fy', 'fz', 'R']\n",
    "\n",
    "    pa = get_particle_array(constants=constants, additional_props=dem_props,\n",
    "                            **props)\n",
    "\n",
    "    # default property arrays to save out.\n",
    "#     pa.set_output_arrays([\n",
    "#         'x', 'y', 'z', 'u', 'v', 'w', 'fx ', 'fy', 'fz', 'm', 'pid', 'gid',\n",
    "#         'tag', 'p'\n",
    "#     ])\n",
    "    pa.set_output_arrays([\n",
    "        'x', 'y', 'z', 'u', 'v', 'w', 'm', 'pid', 'gid',\n",
    "        'tag', 'p'\n",
    "    ])\n",
    "\n",
    "    return pa\n"
   ]
  },
  {
   "cell_type": "code",
   "execution_count": 11,
   "metadata": {
    "collapsed": false
   },
   "outputs": [
    {
     "data": {
      "text/plain": [
       "array([ 0.,  0.,  0.,  0.,  0.,  0.,  0.,  0.,  0.,  0.,  0.,  0.,  0.,\n",
       "        0.,  0.,  0.,  0.,  0.,  0.,  0.,  0.,  0.,  0.,  0.,  0.,  0.,\n",
       "        0.,  0.,  0.,  0.,  0.,  0.,  0.,  0.,  0.,  0.,  0.,  0.,  0.,\n",
       "        0.,  0.,  0.,  0.,  0.,  0.,  0.,  0.,  0.,  0.,  0.,  0.,  0.,\n",
       "        0.,  0.,  0.,  0.,  0.,  0.,  0.,  0.,  0.,  0.,  0.,  0.,  0.,\n",
       "        0.,  0.,  0.,  0.,  0.,  0.,  0.,  0.,  0.,  0.,  0.,  0.,  0.,\n",
       "        0.,  0.,  0.,  0.,  0.,  0.,  0.,  0.,  0.,  0.,  0.,  0.,  0.,\n",
       "        0.,  0.,  0.,  0.,  0.,  0.,  0.,  0.,  0.])"
      ]
     },
     "execution_count": 11,
     "metadata": {},
     "output_type": "execute_result"
    }
   ],
   "source": [
    "x = np.linspace(0, 1, 10)\n",
    "y = np.linspace(0, 1, 10)\n",
    "x, y = np.meshgrid(x, y)\n",
    "x, y = x.ravel(), y.ravel()\n",
    "pa = get_particle_array_dem(name=\"sand\", x=x, y=y)\n",
    "\n",
    "# check for the properties of newly created \n",
    "pa.fx"
   ]
  }
 ],
 "metadata": {
  "kernelspec": {
   "display_name": "Python 2",
   "language": "python",
   "name": "python2"
  },
  "language_info": {
   "codemirror_mode": {
    "name": "ipython",
    "version": 2
   },
   "file_extension": ".py",
   "mimetype": "text/x-python",
   "name": "python",
   "nbconvert_exporter": "python",
   "pygments_lexer": "ipython2",
   "version": "2.7.12"
  }
 },
 "nbformat": 4,
 "nbformat_minor": 2
}
